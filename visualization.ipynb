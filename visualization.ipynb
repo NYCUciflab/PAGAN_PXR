{
 "cells": [
  {
   "cell_type": "code",
   "execution_count": 1,
   "metadata": {},
   "outputs": [],
   "source": [
    "import numpy as np\n",
    "import matplotlib.pyplot as plt"
   ]
  },
  {
   "cell_type": "code",
   "execution_count": 2,
   "metadata": {},
   "outputs": [],
   "source": [
    "import torch\n",
    "from torchvision import models\n",
    "from utils.dataset import build_dataset\n",
    "from utils.model import PAGenerator, class_model\n",
    "from utils.visualize import GradCAM, get_heatmap, get_heatmap_on_image\n",
    "from utils.loss import get_results\n",
    "from config import *"
   ]
  },
  {
   "attachments": {},
   "cell_type": "markdown",
   "metadata": {},
   "source": [
    "# Model performance"
   ]
  },
  {
   "cell_type": "code",
   "execution_count": 3,
   "metadata": {},
   "outputs": [
    {
     "name": "stdout",
     "output_type": "stream",
     "text": [
      "test data\n",
      "fra:457  nor:560\n"
     ]
    }
   ],
   "source": [
    "# load dataset\n",
    "dataset = build_dataset(image_size=image_size, batch_size=batch_size)\n",
    "test_dataset  = dataset.test(test_dir)"
   ]
  },
  {
   "cell_type": "code",
   "execution_count": 4,
   "metadata": {},
   "outputs": [
    {
     "name": "stderr",
     "output_type": "stream",
     "text": [
      "/home/genius/anaconda3/lib/python3.10/site-packages/torchvision/models/_utils.py:208: UserWarning: The parameter 'pretrained' is deprecated since 0.13 and may be removed in the future, please use 'weights' instead.\n",
      "  warnings.warn(\n",
      "/home/genius/anaconda3/lib/python3.10/site-packages/torchvision/models/_utils.py:223: UserWarning: Arguments other than a weight enum or `None` for 'weights' are deprecated since 0.13 and may be removed in the future. The current behavior is equivalent to passing `weights=EfficientNet_B0_Weights.IMAGENET1K_V1`. You can also use `weights=EfficientNet_B0_Weights.DEFAULT` to get the most up-to-date weights.\n",
      "  warnings.warn(msg)\n"
     ]
    },
    {
     "name": "stdout",
     "output_type": "stream",
     "text": [
      "model loaded to device\n"
     ]
    }
   ],
   "source": [
    "checkpoint = torch.load(\"LOAD YOUR MODEL HERE\")\n",
    "model = PAGenerator(models.efficientnet_b0(pretrained=True))\n",
    "model.load_state_dict(checkpoint, strict=True)\n",
    "model.eval()\n",
    "model.to(device)\n",
    "print('model loaded to device')"
   ]
  },
  {
   "cell_type": "code",
   "execution_count": 5,
   "metadata": {},
   "outputs": [
    {
     "name": "stdout",
     "output_type": "stream",
     "text": [
      "1016\r"
     ]
    }
   ],
   "source": [
    "labels = []\n",
    "preds  = []\n",
    "\n",
    "for i_batch, sample_batched in enumerate(test_dataset):\n",
    "    img   = sample_batched['image'].to(device)\n",
    "    label = sample_batched['label'].to(device)\n",
    "    pred, _ = model(img)\n",
    "    labels.append(label.tolist()[0])\n",
    "    preds.append(pred.tolist()[0][0])\n",
    "    print(i_batch, end='\\r')"
   ]
  },
  {
   "cell_type": "code",
   "execution_count": 6,
   "metadata": {},
   "outputs": [
    {
     "name": "stdout",
     "output_type": "stream",
     "text": [
      "acc: 0.9597   sen: 0.9212   spc:0.9911   ydn:0.9123\n"
     ]
    }
   ],
   "source": [
    "acc, sen, spc, ydn = get_results(preds, labels, threshold=0)\n",
    "print(f'acc: %.4f   sen: %.4f   spc:%.4f   ydn:%.4f'%(acc, sen, spc, ydn))"
   ]
  },
  {
   "attachments": {},
   "cell_type": "markdown",
   "metadata": {},
   "source": [
    "# GradCAM"
   ]
  },
  {
   "cell_type": "code",
   "execution_count": 7,
   "metadata": {},
   "outputs": [
    {
     "name": "stdout",
     "output_type": "stream",
     "text": [
      "done\n"
     ]
    }
   ],
   "source": [
    "# Load the weights of PAGAN to a classification model\n",
    "cmodel = class_model(models.efficientnet_b0(pretrained=True))\n",
    "cmodel.load_state_dict(model.state_dict(), strict=False)\n",
    "cmodel.eval()\n",
    "print('done')"
   ]
  },
  {
   "cell_type": "code",
   "execution_count": 8,
   "metadata": {},
   "outputs": [
    {
     "name": "stderr",
     "output_type": "stream",
     "text": [
      "/home/genius/anaconda3/lib/python3.10/site-packages/torch/nn/modules/module.py:1344: UserWarning: Using a non-full backward hook when the forward contains multiple autograd Nodes is deprecated and will be removed in future versions. This hook will be missing some grad_input. Please use register_full_backward_hook to get the documented behavior.\n",
      "  warnings.warn(\"Using a non-full backward hook when the forward contains multiple autograd Nodes \"\n"
     ]
    },
    {
     "data": {
      "text/plain": [
       "<matplotlib.image.AxesImage at 0x7f7fadbe2350>"
      ]
     },
     "execution_count": 8,
     "metadata": {},
     "output_type": "execute_result"
    },
   
     "metadata": {},
     "output_type": "display_data"
    }
   ],
   "source": [
    "# choose image\n",
    "idx = 2\n",
    "for i_batch, sample_batched in enumerate(test_dataset):\n",
    "    img_tensor = sample_batched['image']\n",
    "    if i_batch==idx:\n",
    "        break\n",
    "\n",
    "# to RGB\n",
    "img = img_tensor.detach().numpy()[0][0]\n",
    "img = np.uint8(255 * img)\n",
    "img = cv2.cvtColor(img, cv2.COLOR_GRAY2RGB)\n",
    "ori_img = img.copy()\n",
    "img = img - np.min(img)\n",
    "img = img / np.max(img)\n",
    "\n",
    "# define heatmap\n",
    "gradcam       = GradCAM(cmodel)\n",
    "heatmap       = gradcam(img_tensor, index=0)\n",
    "heatmap       = get_heatmap(heatmap)\n",
    "heatmap_image = get_heatmap_on_image(heatmap, img)\n",
    "\n",
    "# visualize\n",
    "fig = plt.figure(figsize=(15, 5))\n",
    "plt.subplot(1, 2, 1)\n",
    "plt.title(f'PXR image')\n",
    "plt.axis('off')\n",
    "plt.imshow(img, cmap='gray')\n",
    "\n",
    "plt.subplot(1, 2, 2)\n",
    "plt.title('Grad-CAM')\n",
    "plt.axis('off')\n",
    "plt.imshow(heatmap_image/heatmap_image.max())"
   ]
  },
  {
   "cell_type": "code",
   "execution_count": null,
   "metadata": {},
   "outputs": [],
   "source": []
  }
 ],
 "metadata": {
  "kernelspec": {
   "display_name": "base",
   "language": "python",
   "name": "python3"
  },
  "language_info": {
   "codemirror_mode": {
    "name": "ipython",
    "version": 3
   },
   "file_extension": ".py",
   "mimetype": "text/x-python",
   "name": "python",
   "nbconvert_exporter": "python",
   "pygments_lexer": "ipython3",
   "version": "3.10.9"
  },
  "orig_nbformat": 4
 },
 "nbformat": 4,
 "nbformat_minor": 2
}
